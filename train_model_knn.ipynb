{
 "cells": [
  {
   "cell_type": "code",
   "execution_count": 1,
   "metadata": {},
   "outputs": [],
   "source": [
    "import pandas as pd\n",
    "import torch\n",
    "import numpy as np\n",
    "from model import MFP,DataSet\n",
    "from torch.utils.tensorboard import SummaryWriter\n",
    "from sklearn.model_selection import train_test_split\n",
    "from torch.utils.data.dataloader import DataLoader\n",
    "from torchinfo import summary\n",
    "from tqdm.auto import tqdm\n",
    "from torch.nn.utils import clip_grad_norm_"
   ]
  },
  {
   "cell_type": "code",
   "execution_count": 2,
   "metadata": {},
   "outputs": [],
   "source": [
    "file_path = './updated_datasets_distrubutions/final_ds_knn.csv'\n",
    "file_path_y = './updated_datasets_distrubutions/final_ds_knn_y.csv'"
   ]
  },
  {
   "cell_type": "code",
   "execution_count": 3,
   "metadata": {},
   "outputs": [],
   "source": [
    "df = pd.read_csv(file_path)\n",
    "df_y = pd.read_csv(file_path_y)"
   ]
  },
  {
   "cell_type": "code",
   "execution_count": 4,
   "metadata": {},
   "outputs": [],
   "source": [
    "X_train, X_test, y_train, y_test = train_test_split(df.to_numpy(), df_y.to_numpy(), test_size=0.20, random_state=42)"
   ]
  },
  {
   "cell_type": "code",
   "execution_count": 5,
   "metadata": {},
   "outputs": [],
   "source": [
    "train_dataset = DataSet(X_train,y_train)\n",
    "test_dataset = DataSet(X_test,y_test)\n",
    "train_dataloader = DataLoader(train_dataset,batch_size=128,shuffle=True)\n",
    "test_dataloader = DataLoader(test_dataset,batch_size=128)"
   ]
  },
  {
   "cell_type": "code",
   "execution_count": 6,
   "metadata": {},
   "outputs": [
    {
     "data": {
      "text/plain": [
       "=================================================================\n",
       "Layer (type:depth-idx)                   Param #\n",
       "=================================================================\n",
       "MFP                                      --\n",
       "├─LeakyReLU: 1-1                         --\n",
       "├─ReLU: 1-2                              --\n",
       "├─Sigmoid: 1-3                           --\n",
       "├─Tanh: 1-4                              --\n",
       "├─Mish: 1-5                              --\n",
       "├─SiLU: 1-6                              --\n",
       "├─SELU: 1-7                              --\n",
       "├─ELU: 1-8                               --\n",
       "├─GELU: 1-9                              --\n",
       "├─Softplus: 1-10                         --\n",
       "├─Softsign: 1-11                         --\n",
       "├─Softshrink: 1-12                       --\n",
       "├─Linear: 1-13                           81,510\n",
       "├─Linear: 1-14                           81,510\n",
       "├─Linear: 1-15                           81,510\n",
       "├─Linear: 1-16                           81,510\n",
       "├─Linear: 1-17                           81,510\n",
       "├─Linear: 1-18                           81,510\n",
       "├─Linear: 1-19                           81,510\n",
       "├─Linear: 1-20                           81,510\n",
       "├─Linear: 1-21                           81,510\n",
       "├─Linear: 1-22                           81,510\n",
       "├─Linear: 1-23                           81,510\n",
       "├─Linear: 1-24                           81,510\n",
       "├─LayerNorm: 1-25                        6,840\n",
       "├─KAN: 1-26                              --\n",
       "│    └─ModuleList: 2-1                   --\n",
       "│    │    └─KANLinear: 3-1               465,120\n",
       "│    │    └─KANLinear: 3-2               8,704\n",
       "│    │    └─KANLinear: 3-3               8,704\n",
       "=================================================================\n",
       "Total params: 1,467,488\n",
       "Trainable params: 1,467,488\n",
       "Non-trainable params: 0\n",
       "================================================================="
      ]
     },
     "execution_count": 6,
     "metadata": {},
     "output_type": "execute_result"
    }
   ],
   "source": [
    "model = MFP().to('cuda')\n",
    "summary(model)"
   ]
  },
  {
   "cell_type": "code",
   "execution_count": 7,
   "metadata": {},
   "outputs": [],
   "source": [
    "loss_fn = torch.nn.HuberLoss()\n",
    "optimizer = torch.optim.AdamW(model.parameters(),lr=1e-4,weight_decay=0.1)\n",
    "scheduler = torch.optim.lr_scheduler.LinearLR(optimizer=optimizer,total_iters=1000,start_factor=1,end_factor=1e-1)\n",
    "writer = SummaryWriter('./runs')"
   ]
  },
  {
   "cell_type": "code",
   "execution_count": 8,
   "metadata": {},
   "outputs": [
    {
     "data": {
      "application/vnd.jupyter.widget-view+json": {
       "model_id": "41150617bb4641ff9e4ebe0e6637a9ed",
       "version_major": 2,
       "version_minor": 0
      },
      "text/plain": [
       "  0%|          | 0/1000 [00:00<?, ?it/s]"
      ]
     },
     "metadata": {},
     "output_type": "display_data"
    }
   ],
   "source": [
    "for i in tqdm(range(1000)):\n",
    "    model.train()\n",
    "    for (x,y) in train_dataloader:\n",
    "        output = model(x)\n",
    "        loss = loss_fn(output,y)\n",
    "        loss.backward()\n",
    "        clip_grad_norm_(model.parameters(),0.1)\n",
    "        optimizer.step()\n",
    "        optimizer.zero_grad()\n",
    "    scheduler.step()\n",
    "    model.eval()\n",
    "    with torch.inference_mode():\n",
    "        loss_values = []\n",
    "        for (x,y) in (test_dataloader):\n",
    "            output = model(x)\n",
    "            loss = torch.mean(torch.abs(output-y))\n",
    "            loss_values.append(loss.cpu().item())\n",
    "        writer.add_scalar('loss_knn',np.mean(loss_values),i)"
   ]
  }
 ],
 "metadata": {
  "kernelspec": {
   "display_name": "myspace",
   "language": "python",
   "name": "python3"
  },
  "language_info": {
   "codemirror_mode": {
    "name": "ipython",
    "version": 3
   },
   "file_extension": ".py",
   "mimetype": "text/x-python",
   "name": "python",
   "nbconvert_exporter": "python",
   "pygments_lexer": "ipython3",
   "version": "3.11.9"
  }
 },
 "nbformat": 4,
 "nbformat_minor": 2
}
