{
 "cells": [
  {
   "cell_type": "code",
   "execution_count": 1,
   "metadata": {},
   "outputs": [],
   "source": [
    "import pandas as pd"
   ]
  },
  {
   "cell_type": "code",
   "execution_count": 2,
   "metadata": {},
   "outputs": [],
   "source": [
    "file_paths = [\n",
    "    './updated_datasets_distrubutions/final_ds_bgr.csv',\n",
    "    './updated_datasets_distrubutions/final_ds_itr.csv',\n",
    "    './updated_datasets_distrubutions/final_ds_knn.csv',\n",
    "    './updated_datasets_distrubutions/final_ds_svr.csv',\n",
    "]\n",
    "file_paths_y = [\n",
    "    './updated_datasets_distrubutions/final_ds_bgr_y.csv',\n",
    "    './updated_datasets_distrubutions/final_ds_itr_y.csv',\n",
    "    './updated_datasets_distrubutions/final_ds_knn_y.csv',\n",
    "    './updated_datasets_distrubutions/final_ds_svr_y.csv',\n",
    "]"
   ]
  },
  {
   "cell_type": "code",
   "execution_count": 3,
   "metadata": {},
   "outputs": [],
   "source": [
    "dfs = []\n",
    "for path in file_paths:\n",
    "    dfs.append(pd.read_csv(path))\n",
    "\n",
    "dfs_y = []"
   ]
  },
  {
   "cell_type": "code",
   "execution_count": 4,
   "metadata": {},
   "outputs": [],
   "source": [
    "for i,df in enumerate(dfs):\n",
    "    dfs_y.append(df.iloc[:,:8])\n",
    "\n",
    "for i,df in enumerate(dfs):\n",
    "    dfs[i] = df.iloc[:,8:]"
   ]
  },
  {
   "cell_type": "code",
   "execution_count": 5,
   "metadata": {},
   "outputs": [],
   "source": [
    "for file_name,df in zip(file_paths,dfs):\n",
    "    df.to_csv(file_name,index=False)\n",
    "\n",
    "for file_name,df in zip(file_paths_y,dfs_y):\n",
    "    df.to_csv(file_name,index=False)"
   ]
  }
 ],
 "metadata": {
  "kernelspec": {
   "display_name": "myspace",
   "language": "python",
   "name": "python3"
  },
  "language_info": {
   "codemirror_mode": {
    "name": "ipython",
    "version": 3
   },
   "file_extension": ".py",
   "mimetype": "text/x-python",
   "name": "python",
   "nbconvert_exporter": "python",
   "pygments_lexer": "ipython3",
   "version": "3.11.9"
  }
 },
 "nbformat": 4,
 "nbformat_minor": 2
}
