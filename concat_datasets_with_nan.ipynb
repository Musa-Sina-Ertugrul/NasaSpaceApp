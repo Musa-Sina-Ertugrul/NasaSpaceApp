{
 "cells": [
  {
   "cell_type": "code",
   "execution_count": 1,
   "metadata": {},
   "outputs": [],
   "source": [
    "import pandas as pd\n",
    "import numpy as np\n",
    "import os\n",
    "import sys\n",
    "import datetime \n",
    "from functools import partial\n",
    "import math\n",
    "from itertools import count"
   ]
  },
  {
   "cell_type": "code",
   "execution_count": 2,
   "metadata": {},
   "outputs": [],
   "source": [
    "folder = os.getcwd() + '/datasets/'\n",
    "files = os.listdir(folder)\n",
    "\n",
    "for file_name in files.copy():\n",
    "    if '.txt' in file_name:\n",
    "        files.remove(file_name)"
   ]
  },
  {
   "cell_type": "code",
   "execution_count": 3,
   "metadata": {},
   "outputs": [],
   "source": [
    "dfs : dict[pd.DataFrame] = {}\n",
    "\n",
    "for file_name in files:\n",
    "    dfs[file_name] = pd.read_csv(folder+file_name)"
   ]
  },
  {
   "cell_type": "code",
   "execution_count": 4,
   "metadata": {},
   "outputs": [],
   "source": [
    "def convert_dates(text:str):\n",
    "    return datetime.datetime.strptime(text,'%Y-%m-%dT%H:%M:%S.%fZ')"
   ]
  },
  {
   "cell_type": "code",
   "execution_count": 5,
   "metadata": {},
   "outputs": [],
   "source": [
    "years = []\n",
    "for key,value in dfs.items():\n",
    "    date_col_name = value.columns[0]\n",
    "    try:\n",
    "        value[date_col_name] = value[date_col_name].map(convert_dates)\n",
    "    except TypeError:\n",
    "        pass"
   ]
  },
  {
   "cell_type": "code",
   "execution_count": 6,
   "metadata": {},
   "outputs": [],
   "source": [
    "for values in dfs.values():\n",
    "    _,*col_names = list(values.columns)\n",
    "    col_names.insert(0,'day')\n",
    "    values.columns = col_names"
   ]
  },
  {
   "cell_type": "code",
   "execution_count": 7,
   "metadata": {},
   "outputs": [],
   "source": [
    "for key,values in dfs.copy().items():\n",
    "    dfs[key]['day'] = values['day'].map(str)\n",
    "    dfs[key]['day'] = values['day'].map(lambda x : x.split(' ')[0])\n",
    "    dfs[key]['day'] = values['day'].map(lambda x : ''.join(x.split('-')[:-1]))"
   ]
  },
  {
   "cell_type": "code",
   "execution_count": 18,
   "metadata": {},
   "outputs": [],
   "source": [
    "dfs_means = []\n",
    "for key,values in dfs.copy().items():\n",
    "    unique_months = values['day'].unique()\n",
    "    \n",
    "    df_unique_months = {}\n",
    "    for month in unique_months:\n",
    "        unique_month_values = values[values['day'] == month]\n",
    "        unique_month_values = unique_month_values.drop('day',axis=1)\n",
    "        \n",
    "        for mean_value,index in zip(unique_month_values.mean(),unique_month_values.mean().index):\n",
    "            if df_unique_months.get(index,False):\n",
    "                df_unique_months[index].append(mean_value)\n",
    "            else:\n",
    "                df_unique_months[index] = [mean_value]\n",
    "        if df_unique_months.get('day',False):\n",
    "            df_unique_months['day'].append(month)\n",
    "        else:\n",
    "            df_unique_months['day'] = [month]\n",
    "        df_unique_months_df = pd.DataFrame(data=df_unique_months)\n",
    "        dfs_means.append(df_unique_months_df)\n",
    "    "
   ]
  },
  {
   "cell_type": "code",
   "execution_count": 21,
   "metadata": {},
   "outputs": [
    {
     "name": "stdout",
     "output_type": "stream",
     "text": [
      "2306\n"
     ]
    }
   ],
   "source": [
    "print(len(dfs_means))"
   ]
  },
  {
   "cell_type": "code",
   "execution_count": 30,
   "metadata": {},
   "outputs": [],
   "source": [
    "df_final = pd.concat(dfs_means,ignore_index=True)\n"
   ]
  },
  {
   "cell_type": "code",
   "execution_count": 33,
   "metadata": {},
   "outputs": [],
   "source": [
    "df_final.to_csv('./updated_datasets_distrubutions/nan_ds.csv',index=False)"
   ]
  }
 ],
 "metadata": {
  "kernelspec": {
   "display_name": "myspace",
   "language": "python",
   "name": "python3"
  },
  "language_info": {
   "codemirror_mode": {
    "name": "ipython",
    "version": 3
   },
   "file_extension": ".py",
   "mimetype": "text/x-python",
   "name": "python",
   "nbconvert_exporter": "python",
   "pygments_lexer": "ipython3",
   "version": "3.11.9"
  }
 },
 "nbformat": 4,
 "nbformat_minor": 2
}
