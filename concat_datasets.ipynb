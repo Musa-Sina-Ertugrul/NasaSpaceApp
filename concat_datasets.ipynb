{
 "cells": [
  {
   "cell_type": "code",
   "execution_count": 1,
   "metadata": {},
   "outputs": [],
   "source": [
    "import pandas as pd\n",
    "import numpy as np\n",
    "import os\n",
    "import sys\n",
    "import datetime \n",
    "from functools import partial\n",
    "import math"
   ]
  },
  {
   "cell_type": "code",
   "execution_count": 2,
   "metadata": {},
   "outputs": [],
   "source": [
    "folder = os.getcwd() + '/datasets/'\n",
    "files = os.listdir(folder)\n",
    "\n",
    "for file_name in files.copy():\n",
    "    if '.txt' in file_name:\n",
    "        files.remove(file_name)"
   ]
  },
  {
   "cell_type": "code",
   "execution_count": 3,
   "metadata": {},
   "outputs": [],
   "source": [
    "dfs : dict[pd.DataFrame] = {}\n",
    "\n",
    "for file_name in files:\n",
    "    dfs[file_name] = pd.read_csv(folder+file_name)"
   ]
  },
  {
   "cell_type": "code",
   "execution_count": 4,
   "metadata": {},
   "outputs": [],
   "source": [
    "def convert_dates(text:str):\n",
    "    return datetime.datetime.strptime(text,'%Y-%m-%dT%H:%M:%S.%fZ')"
   ]
  },
  {
   "cell_type": "code",
   "execution_count": 5,
   "metadata": {},
   "outputs": [],
   "source": [
    "years = []\n",
    "for key,value in dfs.items():\n",
    "    date_col_name = value.columns[0]\n",
    "    try:\n",
    "        value[date_col_name] = value[date_col_name].map(convert_dates)\n",
    "    except TypeError:\n",
    "        pass\n",
    "    finally:\n",
    "        years.append(min(value[date_col_name].dt.year))"
   ]
  },
  {
   "cell_type": "code",
   "execution_count": 6,
   "metadata": {},
   "outputs": [
    {
     "data": {
      "text/plain": [
       "2024"
      ]
     },
     "execution_count": 6,
     "metadata": {},
     "output_type": "execute_result"
    }
   ],
   "source": [
    "max(years)"
   ]
  },
  {
   "cell_type": "code",
   "execution_count": 7,
   "metadata": {},
   "outputs": [
    {
     "name": "stdout",
     "output_type": "stream",
     "text": [
      "Sentinel-5P HCHO-HCHO_VISUALIZED-2024-07-01T00_00_00.000Z-2024-10-01T23_59_59.999Z.csv\n"
     ]
    }
   ],
   "source": [
    "for key,value in dfs.items():\n",
    "    date_col_name = value.columns[0]\n",
    "    try:\n",
    "        value[date_col_name] = value[date_col_name].map(convert_dates)\n",
    "    except TypeError:\n",
    "        pass\n",
    "    finally:\n",
    "        if min(value[date_col_name].dt.year) == 2024:\n",
    "            print(key)"
   ]
  },
  {
   "cell_type": "code",
   "execution_count": 8,
   "metadata": {},
   "outputs": [],
   "source": [
    "for key,value in dfs.copy().items():\n",
    "    date_col_name = value.columns[0]\n",
    "    try:\n",
    "        value[date_col_name] = value[date_col_name].map(convert_dates)\n",
    "    except TypeError:\n",
    "        pass\n",
    "    finally:\n",
    "        if 2024 not in value[date_col_name].dt.year.to_list():\n",
    "            del dfs[key]"
   ]
  },
  {
   "cell_type": "code",
   "execution_count": 9,
   "metadata": {},
   "outputs": [],
   "source": [
    "for key,value in dfs.copy().items():\n",
    "    date_col_name = value.columns[0]\n",
    "    dfs[key] = value[value[date_col_name].dt.year == 2024]"
   ]
  },
  {
   "cell_type": "code",
   "execution_count": 10,
   "metadata": {},
   "outputs": [
    {
     "name": "stdout",
     "output_type": "stream",
     "text": [
      "32\n",
      "274\n",
      "49\n",
      "213\n",
      "32\n",
      "46\n",
      "46\n",
      "224\n",
      "264\n",
      "273\n",
      "273\n",
      "213\n",
      "65\n",
      "46\n",
      "46\n",
      "49\n",
      "215\n",
      "88\n",
      "38\n",
      "32\n",
      "213\n",
      "46\n",
      "46\n",
      "270\n"
     ]
    }
   ],
   "source": [
    "_ = [print(len(value)) for value in dfs.values()]"
   ]
  },
  {
   "cell_type": "code",
   "execution_count": 11,
   "metadata": {},
   "outputs": [],
   "source": [
    "intersected_dates = []"
   ]
  },
  {
   "cell_type": "code",
   "execution_count": 12,
   "metadata": {},
   "outputs": [],
   "source": [
    "for values in dfs.values():\n",
    "    date_col_name = values.columns[0]\n",
    "    intersected_dates.extend(values[date_col_name].map(str).to_list())"
   ]
  },
  {
   "cell_type": "code",
   "execution_count": 13,
   "metadata": {},
   "outputs": [],
   "source": [
    "intersected_dates = set(intersected_dates)"
   ]
  },
  {
   "cell_type": "code",
   "execution_count": 14,
   "metadata": {},
   "outputs": [
    {
     "data": {
      "text/plain": [
       "276"
      ]
     },
     "execution_count": 14,
     "metadata": {},
     "output_type": "execute_result"
    }
   ],
   "source": [
    "len(intersected_dates)"
   ]
  },
  {
   "cell_type": "code",
   "execution_count": 15,
   "metadata": {},
   "outputs": [],
   "source": [
    "def delete_not_intersected_day(day):\n",
    "    if str(day) not in intersected_dates:\n",
    "        return np.nan\n",
    "    return day"
   ]
  },
  {
   "cell_type": "code",
   "execution_count": 16,
   "metadata": {},
   "outputs": [
    {
     "name": "stderr",
     "output_type": "stream",
     "text": [
      "/tmp/ipykernel_96108/1537659331.py:3: SettingWithCopyWarning: \n",
      "A value is trying to be set on a copy of a slice from a DataFrame.\n",
      "Try using .loc[row_indexer,col_indexer] = value instead\n",
      "\n",
      "See the caveats in the documentation: https://pandas.pydata.org/pandas-docs/stable/user_guide/indexing.html#returning-a-view-versus-a-copy\n",
      "  values[date_col_name] = values[date_col_name].map(delete_not_intersected_day)\n"
     ]
    }
   ],
   "source": [
    "for key,values in dfs.copy().items():\n",
    "    date_col_name = values.columns[0]\n",
    "    values[date_col_name] = values[date_col_name].map(delete_not_intersected_day)\n",
    "    dfs[key] = values[values[date_col_name] != np.nan]"
   ]
  },
  {
   "cell_type": "code",
   "execution_count": 17,
   "metadata": {},
   "outputs": [],
   "source": [
    "for values in dfs.values():\n",
    "    _,*col_names = list(values.columns)\n",
    "    col_names.insert(0,'day')\n",
    "    values.columns = col_names"
   ]
  },
  {
   "cell_type": "code",
   "execution_count": 18,
   "metadata": {},
   "outputs": [],
   "source": [
    "for key,values in dfs.copy().items():\n",
    "    dfs[key]['day'] = values['day'].map(str)\n",
    "    dfs[key]['day'] = values['day'].map(lambda x : x.split(' ')[0])\n",
    "    dfs[key]['day'] = values['day'].map(lambda x : ''.join(x.split('-')[:-1]))"
   ]
  },
  {
   "cell_type": "code",
   "execution_count": 19,
   "metadata": {},
   "outputs": [],
   "source": [
    "dfs_means = []\n",
    "for key,values in dfs.copy().items():\n",
    "    unique_months = values['day'].unique()\n",
    "    \n",
    "    df_unique_months = {}\n",
    "    for month in unique_months:\n",
    "        unique_month_values = values[values['day'] == month]\n",
    "        unique_month_values = unique_month_values.drop('day',axis=1)\n",
    "        \n",
    "        for mean_value,index in zip(unique_month_values.mean(),unique_month_values.mean().index):\n",
    "            if df_unique_months.get(index,False):\n",
    "                df_unique_months[month].append(mean_value)\n",
    "            else:\n",
    "                df_unique_months[month] = [mean_value]\n",
    "    df_unique_months = pd.DataFrame(data=df_unique_months,index=[0])\n",
    "    dfs_means.append(df_unique_months)"
   ]
  },
  {
   "cell_type": "code",
   "execution_count": 22,
   "metadata": {},
   "outputs": [
    {
     "data": {
      "text/plain": [
       "2"
      ]
     },
     "execution_count": 22,
     "metadata": {},
     "output_type": "execute_result"
    }
   ],
   "source": [
    "len(dfs_means)"
   ]
  },
  {
   "cell_type": "code",
   "execution_count": 21,
   "metadata": {},
   "outputs": [],
   "source": [
    "dfs_means['202409'].to_csv('./updated_datasets_distrubutions/202409.csv',index=False)\n",
    "dfs_means['202410'].to_csv('./updated_datasets_distrubutions/202410.csv',index=False)"
   ]
  }
 ],
 "metadata": {
  "kernelspec": {
   "display_name": "myspace",
   "language": "python",
   "name": "python3"
  },
  "language_info": {
   "codemirror_mode": {
    "name": "ipython",
    "version": 3
   },
   "file_extension": ".py",
   "mimetype": "text/x-python",
   "name": "python",
   "nbconvert_exporter": "python",
   "pygments_lexer": "ipython3",
   "version": "3.11.9"
  }
 },
 "nbformat": 4,
 "nbformat_minor": 2
}
